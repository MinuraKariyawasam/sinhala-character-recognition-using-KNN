{
 "cells": [
  {
   "cell_type": "code",
   "execution_count": 9,
   "metadata": {
    "scrolled": true
   },
   "outputs": [
    {
     "name": "stdout",
     "output_type": "stream",
     "text": [
      "['10.png', '1473.png', '8.png']\n"
     ]
    }
   ],
   "source": [
    "import os\n",
    "import numpy as np\n",
    "\n",
    "data_path = 'test'\n",
    "\n",
    "categories = os.listdir(data_path)\n",
    "print(categories)\n"
   ]
  },
  {
   "cell_type": "code",
   "execution_count": 12,
   "metadata": {},
   "outputs": [
    {
     "name": "stdout",
     "output_type": "stream",
     "text": [
      "test\\10.png\n",
      "test\\1473.png\n",
      "test\\8.png\n"
     ]
    }
   ],
   "source": [
    "import cv2\n",
    "\n",
    "test = []\n",
    "\n",
    "for category in categories:\n",
    "    imgs_path = os.path.join(data_path,category)\n",
    "    print(imgs_path)\n",
    "    \n",
    "    img = cv2.imread(imgs_path,0)\n",
    "    img = cv2.resize(img,(8,8))\n",
    "    \n",
    "    test.append(img)\n",
    "    "
   ]
  },
  {
   "cell_type": "code",
   "execution_count": 14,
   "metadata": {},
   "outputs": [],
   "source": [
    "test = np.array(test)\n",
    "\n",
    "test = test.reshape(test.shape[0],test.shape[1]*test.shape[2])\n",
    "np.save('test_data',test)"
   ]
  },
  {
   "cell_type": "code",
   "execution_count": null,
   "metadata": {},
   "outputs": [],
   "source": []
  }
 ],
 "metadata": {
  "kernelspec": {
   "display_name": "Python 3",
   "language": "python",
   "name": "python3"
  },
  "language_info": {
   "codemirror_mode": {
    "name": "ipython",
    "version": 3
   },
   "file_extension": ".py",
   "mimetype": "text/x-python",
   "name": "python",
   "nbconvert_exporter": "python",
   "pygments_lexer": "ipython3",
   "version": "3.8.3"
  }
 },
 "nbformat": 4,
 "nbformat_minor": 4
}
