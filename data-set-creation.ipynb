{
 "cells": [
  {
   "cell_type": "code",
   "execution_count": 28,
   "metadata": {},
   "outputs": [
    {
     "name": "stdout",
     "output_type": "stream",
     "text": [
      "['a', 'ae', 'e', 'u']\n",
      "[0, 1, 2, 3]\n",
      "{'a': 0, 'ae': 1, 'e': 2, 'u': 3}\n"
     ]
    }
   ],
   "source": [
    "import os\n",
    "import numpy as np\n",
    "\n",
    "data_path = 'dataset'\n",
    "\n",
    "categories = os.listdir(data_path)\n",
    "print(categories)\n",
    "\n",
    "lables = [i for i in range(len(categories))]\n",
    "print(lables)\n",
    "\n",
    "category_dict = {'a':0, 'ae':1, 'e':2, 'u':3}\n",
    "print(category_dict)\n"
   ]
  },
  {
   "cell_type": "code",
   "execution_count": 29,
   "metadata": {},
   "outputs": [
    {
     "name": "stdout",
     "output_type": "stream",
     "text": [
      "a -----------------\n",
      "ae -----------------\n",
      "e -----------------\n",
      "u -----------------\n"
     ]
    }
   ],
   "source": [
    "import cv2\n",
    "\n",
    "data = []\n",
    "target = []\n",
    "\n",
    "for category in categories:\n",
    "    imgs_path = os.path.join(data_path,category)\n",
    "    imgs_name = os.listdir(imgs_path)\n",
    "    #print(imgs_path,imgs_name)\n",
    "    print(category,'-----------------')\n",
    "    for img_name in imgs_name:\n",
    "        img_path= os.path.join(imgs_path,img_name)\n",
    "        #print(img_path)\n",
    "        img = cv2.imread(img_path,0)\n",
    "        img = cv2.resize(img,(8,8))\n",
    "        \n",
    "        data.append(img)\n",
    "        \n",
    "        target.append(category_dict[category])\n",
    "        \n",
    "        #cv2.imshow('LIVE',img)\n",
    "        #k = cv2.waitKey(100)\n",
    "        #if(k == 27):\n",
    "            #break\n",
    "#cv2.destroyAllWindows()"
   ]
  },
  {
   "cell_type": "code",
   "execution_count": 30,
   "metadata": {},
   "outputs": [
    {
     "name": "stdout",
     "output_type": "stream",
     "text": [
      "280 280\n"
     ]
    }
   ],
   "source": [
    "print(len(data), len(target))"
   ]
  },
  {
   "cell_type": "code",
   "execution_count": 31,
   "metadata": {},
   "outputs": [
    {
     "name": "stdout",
     "output_type": "stream",
     "text": [
      "(280, 8, 8)\n",
      "(280, 64)\n"
     ]
    }
   ],
   "source": [
    "data = np.array(data)\n",
    "\n",
    "print(data.shape)\n",
    "\n",
    "data = data.reshape(data.shape[0],data.shape[1]*data.shape[2]) # 270, 8*8\n",
    "\n",
    "target = np.array(target)\n",
    "\n",
    "print(data.shape)\n",
    "\n",
    "\n",
    "# saving procces data into a physical file\n",
    "np.save('data',data)\n",
    "np.save('target',target)"
   ]
  },
  {
   "cell_type": "code",
   "execution_count": 32,
   "metadata": {},
   "outputs": [
    {
     "name": "stdout",
     "output_type": "stream",
     "text": [
      "(280,)\n"
     ]
    }
   ],
   "source": [
    "print(target.shape)"
   ]
  },
  {
   "cell_type": "code",
   "execution_count": null,
   "metadata": {},
   "outputs": [],
   "source": []
  }
 ],
 "metadata": {
  "kernelspec": {
   "display_name": "Python 3",
   "language": "python",
   "name": "python3"
  },
  "language_info": {
   "codemirror_mode": {
    "name": "ipython",
    "version": 3
   },
   "file_extension": ".py",
   "mimetype": "text/x-python",
   "name": "python",
   "nbconvert_exporter": "python",
   "pygments_lexer": "ipython3",
   "version": "3.8.3"
  }
 },
 "nbformat": 4,
 "nbformat_minor": 4
}
