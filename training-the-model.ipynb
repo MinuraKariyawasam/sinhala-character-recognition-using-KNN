{
 "cells": [
  {
   "cell_type": "code",
   "execution_count": 145,
   "metadata": {},
   "outputs": [],
   "source": [
    "import numpy as np\n",
    "\n",
    "data = np.load('data.npy')\n",
    "target = np.load('target.npy')"
   ]
  },
  {
   "cell_type": "code",
   "execution_count": 146,
   "metadata": {},
   "outputs": [
    {
     "name": "stdout",
     "output_type": "stream",
     "text": [
      "(280, 64)\n",
      "(280,)\n"
     ]
    }
   ],
   "source": [
    "print(data.shape)\n",
    "print(target.shape)"
   ]
  },
  {
   "cell_type": "code",
   "execution_count": 147,
   "metadata": {},
   "outputs": [],
   "source": [
    "from sklearn.model_selection import train_test_split\n",
    "\n",
    "train_data, test_data, train_target, test_target = train_test_split(data,target,test_size=0.2) #split data"
   ]
  },
  {
   "cell_type": "code",
   "execution_count": 148,
   "metadata": {},
   "outputs": [
    {
     "name": "stdout",
     "output_type": "stream",
     "text": [
      "(224, 64) (224,)\n",
      "[[255 255 255 ... 255 255 255]\n",
      " [255 255 253 ... 255 255 253]\n",
      " [255 255 255 ... 255 255 255]\n",
      " ...\n",
      " [255 255 255 ... 255 255 255]\n",
      " [255 255 255 ... 255 255 255]\n",
      " [254 255 255 ... 255 255 253]] [3 2 0 3 2 2 3 1 1 3 3 2 3 2 2 1 3 2 1 2 2 3 3 1 2 1 2 1 0 0 2 1 0 3 3 1 1\n",
      " 2 1 2 0 2 2 2 0 3 3 1 0 2 0 2 0 1 3 1]\n"
     ]
    }
   ],
   "source": [
    "print(train_data.shape, train_target.shape)\n",
    "print(test_data, test_target)"
   ]
  },
  {
   "cell_type": "code",
   "execution_count": 149,
   "metadata": {},
   "outputs": [],
   "source": [
    "from sklearn.neighbors import KNeighborsClassifier\n",
    "\n",
    "model = KNeighborsClassifier() # load the KNN algorithm"
   ]
  },
  {
   "cell_type": "code",
   "execution_count": 150,
   "metadata": {},
   "outputs": [
    {
     "name": "stdout",
     "output_type": "stream",
     "text": [
      "traning\n"
     ]
    }
   ],
   "source": [
    "model.fit(train_data, train_target)\n",
    "print('traning')"
   ]
  },
  {
   "cell_type": "code",
   "execution_count": 151,
   "metadata": {},
   "outputs": [],
   "source": [
    "predicted_target = model.predict(test_data)# predict the test data"
   ]
  },
  {
   "cell_type": "code",
   "execution_count": 152,
   "metadata": {},
   "outputs": [
    {
     "name": "stdout",
     "output_type": "stream",
     "text": [
      "test:  [3 2 0 3 2 2 3 1 1 3 3 2 3 2 2 1 3 2 1 2 2 3 3 1 2 1 2 1 0 0 2 1 0 3 3 1 1\n",
      " 2 1 2 0 2 2 2 0 3 3 1 0 2 0 2 0 1 3 1]\n",
      "test:  [3 1 0 3 3 2 3 1 1 3 3 0 3 0 2 1 3 2 1 2 2 3 0 1 2 1 2 1 2 1 0 1 0 3 0 1 1\n",
      " 2 1 2 0 2 0 0 0 3 2 1 2 2 0 1 0 1 3 1]\n",
      "Accuracy: 0.75\n"
     ]
    }
   ],
   "source": [
    "from sklearn.metrics import accuracy_score\n",
    "\n",
    "acc = accuracy_score(test_target,predicted_target)\n",
    "\n",
    "print('test: ', test_target)\n",
    "print('test: ', predicted_target)\n",
    "\n",
    "print('Accuracy:', acc)"
   ]
  },
  {
   "cell_type": "code",
   "execution_count": 153,
   "metadata": {},
   "outputs": [
    {
     "data": {
      "text/plain": [
       "['KNN-model-for-handwritten-sinhala-characters.sav']"
      ]
     },
     "execution_count": 153,
     "metadata": {},
     "output_type": "execute_result"
    }
   ],
   "source": [
    "import joblib\n",
    "\n",
    "joblib.dump(model,'KNN-model-for-handwritten-sinhala-characters.sav')"
   ]
  },
  {
   "cell_type": "code",
   "execution_count": 154,
   "metadata": {},
   "outputs": [
    {
     "name": "stdout",
     "output_type": "stream",
     "text": [
      "[1 1 0]\n"
     ]
    }
   ],
   "source": [
    "import numpy as np\n",
    "\n",
    "test_data = np.load('test_data.npy')\n",
    "\n",
    "#print(test_data[1])\n",
    "\n",
    "result = model.predict(test_data)\n",
    "\n",
    "print(result)"
   ]
  },
  {
   "cell_type": "code",
   "execution_count": null,
   "metadata": {},
   "outputs": [],
   "source": []
  }
 ],
 "metadata": {
  "kernelspec": {
   "display_name": "Python 3",
   "language": "python",
   "name": "python3"
  },
  "language_info": {
   "codemirror_mode": {
    "name": "ipython",
    "version": 3
   },
   "file_extension": ".py",
   "mimetype": "text/x-python",
   "name": "python",
   "nbconvert_exporter": "python",
   "pygments_lexer": "ipython3",
   "version": "3.8.3"
  }
 },
 "nbformat": 4,
 "nbformat_minor": 4
}
